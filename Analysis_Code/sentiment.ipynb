{
 "cells": [
  {
   "cell_type": "markdown",
   "metadata": {},
   "source": [
    "# Part 2: Sentiment Analysis\n",
    "\n",
    "This notebook leverages several pre-trained sentiment and emotion models to better understand the underlying tone of the political tweets collected. Tweet text was cleaned in the `data_cleaning.ipynb` notebook."
   ]
  },
  {
   "cell_type": "markdown",
   "metadata": {},
   "source": [
    "### General setup"
   ]
  },
  {
   "cell_type": "code",
   "execution_count": 8,
   "metadata": {},
   "outputs": [],
   "source": [
    "# Import packages \n",
    "import pandas as pd \n",
    "import re\n",
    "import matplotlib.pyplot as plt\n",
    "from nltk.sentiment.vader import SentimentIntensityAnalyzer"
   ]
  },
  {
   "cell_type": "code",
   "execution_count": 9,
   "metadata": {},
   "outputs": [],
   "source": [
    "# Set theme for creating visualizations\n",
    "\n",
    "# Set text sizes\n",
    "title_size = 22\n",
    "label_size = 16\n",
    "tick_text_size = 12\n",
    "\n",
    "# Set background and text colors\n",
    "background_color = '#F7F7F4'\n",
    "text_color = 'black'\n",
    "\n",
    "# Set options of colors for use in plotting\n",
    "color1 = \"#9FB881\"  # (dark green)\n",
    "color2 = \"#B89A81\"  # (brown)\n",
    "color3 = \"#2E4057\"  # (charcoal)\n",
    "color4 = \"#cfbaa9\"  # (light brown)\n",
    "color5 = \"#806248\"  # (dark brown)\n",
    "color6 = \"#B8B681\"  # (dark tan)\n",
    "color7 = \"#D19C1D\"  # (gold)\n",
    "color8 = \"#969966\"  # (army green)\n",
    "\n",
    "# Set theme for creating visualizations\n",
    "plt.rcParams.update({\n",
    "                     'axes.edgecolor': 'white',\n",
    "                     'axes.facecolor': background_color,\n",
    "                     'axes.grid': True,\n",
    "                     'axes.labelcolor': text_color,\n",
    "                     'axes.titlesize': title_size,\n",
    "                     'axes.labelsize': label_size,\n",
    "                     'figure.facecolor': background_color,\n",
    "                     'text.color': text_color,\n",
    "                     'xtick.color': text_color,\n",
    "                     'xtick.labelsize' : tick_text_size,\n",
    "                     'ytick.color': text_color,\n",
    "                     'ytick.labelsize' : tick_text_size,\n",
    "                     })"
   ]
  },
  {
   "cell_type": "markdown",
   "metadata": {},
   "source": [
    "### Prepare data"
   ]
  },
  {
   "cell_type": "code",
   "execution_count": 10,
   "metadata": {},
   "outputs": [
    {
     "data": {
      "text/html": [
       "<div>\n",
       "<style scoped>\n",
       "    .dataframe tbody tr th:only-of-type {\n",
       "        vertical-align: middle;\n",
       "    }\n",
       "\n",
       "    .dataframe tbody tr th {\n",
       "        vertical-align: top;\n",
       "    }\n",
       "\n",
       "    .dataframe thead th {\n",
       "        text-align: right;\n",
       "    }\n",
       "</style>\n",
       "<table border=\"1\" class=\"dataframe\">\n",
       "  <thead>\n",
       "    <tr style=\"text-align: right;\">\n",
       "      <th></th>\n",
       "      <th>created_at</th>\n",
       "      <th>text</th>\n",
       "      <th>hashtags</th>\n",
       "      <th>user_mention_ids</th>\n",
       "      <th>user_mention_screen_names</th>\n",
       "      <th>retweet_count</th>\n",
       "      <th>favorite_count</th>\n",
       "      <th>user_id</th>\n",
       "      <th>user_screen_name</th>\n",
       "      <th>user_name</th>\n",
       "      <th>user_location</th>\n",
       "      <th>user_friends_count</th>\n",
       "      <th>user_followers_count</th>\n",
       "      <th>user_favourites_count</th>\n",
       "      <th>user_verfied</th>\n",
       "      <th>user_statuses_count</th>\n",
       "      <th>topic</th>\n",
       "      <th>text_clean</th>\n",
       "      <th>text_clean_noStop</th>\n",
       "      <th>text_clean_noStop_noSearch</th>\n",
       "    </tr>\n",
       "  </thead>\n",
       "  <tbody>\n",
       "    <tr>\n",
       "      <th>0</th>\n",
       "      <td>2022-10-18 00:00:00</td>\n",
       "      <td>Sharp words on guns in Shane Hazel to Stacey A...</td>\n",
       "      <td>['gagovdebate']</td>\n",
       "      <td>[]</td>\n",
       "      <td>[]</td>\n",
       "      <td>5</td>\n",
       "      <td>24</td>\n",
       "      <td>25282846</td>\n",
       "      <td>SimonesNews</td>\n",
       "      <td>Simone Sebastian</td>\n",
       "      <td>Washington DC</td>\n",
       "      <td>3110</td>\n",
       "      <td>5830</td>\n",
       "      <td>1445</td>\n",
       "      <td>True</td>\n",
       "      <td>4400</td>\n",
       "      <td>abrams</td>\n",
       "      <td>sharp words on guns in shane hazel to stacey  ...</td>\n",
       "      <td>sharp words guns shane hazel stacey abrams kee...</td>\n",
       "      <td>sharp words guns shane hazel keep going back g...</td>\n",
       "    </tr>\n",
       "    <tr>\n",
       "      <th>1</th>\n",
       "      <td>2022-10-18 00:00:01</td>\n",
       "      <td>Stacey Abrams won tonight. She kept to the fac...</td>\n",
       "      <td>[]</td>\n",
       "      <td>[]</td>\n",
       "      <td>[]</td>\n",
       "      <td>0</td>\n",
       "      <td>6</td>\n",
       "      <td>1312393604439183361</td>\n",
       "      <td>nching0</td>\n",
       "      <td>Thee Lost Edges of Candace 🪥</td>\n",
       "      <td>34.2073° N, 84.1402° W</td>\n",
       "      <td>922</td>\n",
       "      <td>752</td>\n",
       "      <td>101529</td>\n",
       "      <td>False</td>\n",
       "      <td>61963</td>\n",
       "      <td>abrams</td>\n",
       "      <td>stacey   abrams   won tonight she kept to the ...</td>\n",
       "      <td>stacey abrams tonight kept facts answered ques...</td>\n",
       "      <td>tonight kept facts answered questions math poi...</td>\n",
       "    </tr>\n",
       "  </tbody>\n",
       "</table>\n",
       "</div>"
      ],
      "text/plain": [
       "            created_at                                               text  \\\n",
       "0  2022-10-18 00:00:00  Sharp words on guns in Shane Hazel to Stacey A...   \n",
       "1  2022-10-18 00:00:01  Stacey Abrams won tonight. She kept to the fac...   \n",
       "\n",
       "          hashtags user_mention_ids user_mention_screen_names  retweet_count  \\\n",
       "0  ['gagovdebate']               []                        []              5   \n",
       "1               []               []                        []              0   \n",
       "\n",
       "   favorite_count              user_id user_screen_name  \\\n",
       "0              24             25282846      SimonesNews   \n",
       "1               6  1312393604439183361          nching0   \n",
       "\n",
       "                      user_name           user_location  user_friends_count  \\\n",
       "0              Simone Sebastian           Washington DC                3110   \n",
       "1  Thee Lost Edges of Candace 🪥  34.2073° N, 84.1402° W                 922   \n",
       "\n",
       "   user_followers_count  user_favourites_count  user_verfied  \\\n",
       "0                  5830                   1445          True   \n",
       "1                   752                 101529         False   \n",
       "\n",
       "   user_statuses_count   topic  \\\n",
       "0                 4400  abrams   \n",
       "1                61963  abrams   \n",
       "\n",
       "                                          text_clean  \\\n",
       "0  sharp words on guns in shane hazel to stacey  ...   \n",
       "1  stacey   abrams   won tonight she kept to the ...   \n",
       "\n",
       "                                   text_clean_noStop  \\\n",
       "0  sharp words guns shane hazel stacey abrams kee...   \n",
       "1  stacey abrams tonight kept facts answered ques...   \n",
       "\n",
       "                          text_clean_noStop_noSearch  \n",
       "0  sharp words guns shane hazel keep going back g...  \n",
       "1  tonight kept facts answered questions math poi...  "
      ]
     },
     "execution_count": 10,
     "metadata": {},
     "output_type": "execute_result"
    }
   ],
   "source": [
    "# Read in data\n",
    "data = pd.read_csv('./cleaned_tweet_data.csv')\n",
    "\n",
    "# View first few rows of data\n",
    "data.head(2)"
   ]
  },
  {
   "cell_type": "code",
   "execution_count": 11,
   "metadata": {},
   "outputs": [
    {
     "name": "stdout",
     "output_type": "stream",
     "text": [
      "Number of Rows with No Text Data (after cleaning): 0\n"
     ]
    }
   ],
   "source": [
    "# Check if there are any rows where with no text data\n",
    "print('Number of Rows with No Text Data (after cleaning):', data['text_clean'].isnull().values.any().sum())"
   ]
  },
  {
   "cell_type": "code",
   "execution_count": 12,
   "metadata": {},
   "outputs": [
    {
     "name": "stdout",
     "output_type": "stream",
     "text": [
      "Number of Tweets: 51336\n"
     ]
    }
   ],
   "source": [
    "# Get number of tweets in dataset \n",
    "print('Number of Tweets:', len(data['text']))"
   ]
  },
  {
   "cell_type": "markdown",
   "metadata": {},
   "source": [
    "From the basic data quality check we see that every cleaned tweet does contain text. For the sentiment analysis, we will be using the cleaned text in the `text_clean` column."
   ]
  },
  {
   "cell_type": "markdown",
   "metadata": {},
   "source": [
    "### Perform Sentiment Analysis"
   ]
  },
  {
   "cell_type": "markdown",
   "metadata": {},
   "source": [
    "#### **VADER Sentiment Analysis**"
   ]
  },
  {
   "cell_type": "code",
   "execution_count": 13,
   "metadata": {},
   "outputs": [],
   "source": [
    "# Load VADER sentiment model \n",
    "vader_sentiment = SentimentIntensityAnalyzer()\n",
    "\n",
    "# Define function to return sentiment score for a series of text \n",
    "def vader_sentiment_scores(text):\n",
    "  score = vader_sentiment.polarity_scores(text)\n",
    "  return score['compound']"
   ]
  },
  {
   "cell_type": "code",
   "execution_count": 14,
   "metadata": {},
   "outputs": [],
   "source": [
    "# function that bins sentiment into positive, negative, and neutral categories based on sentiment score \n",
    "def format_output(row):\n",
    "  polarity = \"neutral\"\n",
    "  if(row>= 0.05):\n",
    "    polarity = \"positive\"\n",
    "  elif(row<= -0.05):\n",
    "    polarity = \"negative\"\n",
    "\n",
    "  return polarity"
   ]
  },
  {
   "cell_type": "code",
   "execution_count": 15,
   "metadata": {},
   "outputs": [],
   "source": [
    "# getting sentiment scores for corpus of text \n",
    "data['sentiment_score'] = data['text_clean'].apply(vader_sentiment_scores)\n",
    "\n",
    "# getting sentiment bins for our data \n",
    "data['sentiment_bin'] = data['sentiment_score'].apply(format_output)"
   ]
  },
  {
   "cell_type": "code",
   "execution_count": 16,
   "metadata": {},
   "outputs": [
    {
     "data": {
      "text/html": [
       "<div>\n",
       "<style scoped>\n",
       "    .dataframe tbody tr th:only-of-type {\n",
       "        vertical-align: middle;\n",
       "    }\n",
       "\n",
       "    .dataframe tbody tr th {\n",
       "        vertical-align: top;\n",
       "    }\n",
       "\n",
       "    .dataframe thead th {\n",
       "        text-align: right;\n",
       "    }\n",
       "</style>\n",
       "<table border=\"1\" class=\"dataframe\">\n",
       "  <thead>\n",
       "    <tr style=\"text-align: right;\">\n",
       "      <th></th>\n",
       "      <th>created_at</th>\n",
       "      <th>text</th>\n",
       "      <th>hashtags</th>\n",
       "      <th>user_mention_ids</th>\n",
       "      <th>user_mention_screen_names</th>\n",
       "      <th>retweet_count</th>\n",
       "      <th>favorite_count</th>\n",
       "      <th>user_id</th>\n",
       "      <th>user_screen_name</th>\n",
       "      <th>user_name</th>\n",
       "      <th>...</th>\n",
       "      <th>user_followers_count</th>\n",
       "      <th>user_favourites_count</th>\n",
       "      <th>user_verfied</th>\n",
       "      <th>user_statuses_count</th>\n",
       "      <th>topic</th>\n",
       "      <th>text_clean</th>\n",
       "      <th>text_clean_noStop</th>\n",
       "      <th>text_clean_noStop_noSearch</th>\n",
       "      <th>sentiment_score</th>\n",
       "      <th>sentiment_bin</th>\n",
       "    </tr>\n",
       "  </thead>\n",
       "  <tbody>\n",
       "    <tr>\n",
       "      <th>0</th>\n",
       "      <td>2022-10-18 00:00:00</td>\n",
       "      <td>Sharp words on guns in Shane Hazel to Stacey A...</td>\n",
       "      <td>['gagovdebate']</td>\n",
       "      <td>[]</td>\n",
       "      <td>[]</td>\n",
       "      <td>5</td>\n",
       "      <td>24</td>\n",
       "      <td>25282846</td>\n",
       "      <td>SimonesNews</td>\n",
       "      <td>Simone Sebastian</td>\n",
       "      <td>...</td>\n",
       "      <td>5830</td>\n",
       "      <td>1445</td>\n",
       "      <td>True</td>\n",
       "      <td>4400</td>\n",
       "      <td>abrams</td>\n",
       "      <td>sharp words on guns in shane hazel to stacey  ...</td>\n",
       "      <td>sharp words guns shane hazel stacey abrams kee...</td>\n",
       "      <td>sharp words guns shane hazel keep going back g...</td>\n",
       "      <td>0.3818</td>\n",
       "      <td>positive</td>\n",
       "    </tr>\n",
       "    <tr>\n",
       "      <th>1</th>\n",
       "      <td>2022-10-18 00:00:01</td>\n",
       "      <td>Stacey Abrams won tonight. She kept to the fac...</td>\n",
       "      <td>[]</td>\n",
       "      <td>[]</td>\n",
       "      <td>[]</td>\n",
       "      <td>0</td>\n",
       "      <td>6</td>\n",
       "      <td>1312393604439183361</td>\n",
       "      <td>nching0</td>\n",
       "      <td>Thee Lost Edges of Candace 🪥</td>\n",
       "      <td>...</td>\n",
       "      <td>752</td>\n",
       "      <td>101529</td>\n",
       "      <td>False</td>\n",
       "      <td>61963</td>\n",
       "      <td>abrams</td>\n",
       "      <td>stacey   abrams   won tonight she kept to the ...</td>\n",
       "      <td>stacey abrams tonight kept facts answered ques...</td>\n",
       "      <td>tonight kept facts answered questions math poi...</td>\n",
       "      <td>0.7351</td>\n",
       "      <td>positive</td>\n",
       "    </tr>\n",
       "    <tr>\n",
       "      <th>2</th>\n",
       "      <td>2022-10-18 00:00:01</td>\n",
       "      <td>Why did Joe Rogan send his little brother, Sha...</td>\n",
       "      <td>['GAGovDebate']</td>\n",
       "      <td>[]</td>\n",
       "      <td>[]</td>\n",
       "      <td>0</td>\n",
       "      <td>5</td>\n",
       "      <td>897218253826555905</td>\n",
       "      <td>JTaylorSkinner</td>\n",
       "      <td>Jenn Taylor-Skinner (she/her)</td>\n",
       "      <td>...</td>\n",
       "      <td>25727</td>\n",
       "      <td>82402</td>\n",
       "      <td>False</td>\n",
       "      <td>43808</td>\n",
       "      <td>abrams</td>\n",
       "      <td>why did joe rogan send his little brother shan...</td>\n",
       "      <td>joe rogan send little brother shane interrupt ...</td>\n",
       "      <td>joe rogan send little brother shane interrupt ...</td>\n",
       "      <td>-0.2500</td>\n",
       "      <td>negative</td>\n",
       "    </tr>\n",
       "  </tbody>\n",
       "</table>\n",
       "<p>3 rows × 22 columns</p>\n",
       "</div>"
      ],
      "text/plain": [
       "            created_at                                               text  \\\n",
       "0  2022-10-18 00:00:00  Sharp words on guns in Shane Hazel to Stacey A...   \n",
       "1  2022-10-18 00:00:01  Stacey Abrams won tonight. She kept to the fac...   \n",
       "2  2022-10-18 00:00:01  Why did Joe Rogan send his little brother, Sha...   \n",
       "\n",
       "          hashtags user_mention_ids user_mention_screen_names  retweet_count  \\\n",
       "0  ['gagovdebate']               []                        []              5   \n",
       "1               []               []                        []              0   \n",
       "2  ['GAGovDebate']               []                        []              0   \n",
       "\n",
       "   favorite_count              user_id user_screen_name  \\\n",
       "0              24             25282846      SimonesNews   \n",
       "1               6  1312393604439183361          nching0   \n",
       "2               5   897218253826555905   JTaylorSkinner   \n",
       "\n",
       "                       user_name  ... user_followers_count  \\\n",
       "0               Simone Sebastian  ...                 5830   \n",
       "1   Thee Lost Edges of Candace 🪥  ...                  752   \n",
       "2  Jenn Taylor-Skinner (she/her)  ...                25727   \n",
       "\n",
       "   user_favourites_count  user_verfied  user_statuses_count   topic  \\\n",
       "0                   1445          True                 4400  abrams   \n",
       "1                 101529         False                61963  abrams   \n",
       "2                  82402         False                43808  abrams   \n",
       "\n",
       "                                          text_clean  \\\n",
       "0  sharp words on guns in shane hazel to stacey  ...   \n",
       "1  stacey   abrams   won tonight she kept to the ...   \n",
       "2  why did joe rogan send his little brother shan...   \n",
       "\n",
       "                                   text_clean_noStop  \\\n",
       "0  sharp words guns shane hazel stacey abrams kee...   \n",
       "1  stacey abrams tonight kept facts answered ques...   \n",
       "2  joe rogan send little brother shane interrupt ...   \n",
       "\n",
       "                          text_clean_noStop_noSearch sentiment_score  \\\n",
       "0  sharp words guns shane hazel keep going back g...          0.3818   \n",
       "1  tonight kept facts answered questions math poi...          0.7351   \n",
       "2  joe rogan send little brother shane interrupt ...         -0.2500   \n",
       "\n",
       "  sentiment_bin  \n",
       "0      positive  \n",
       "1      positive  \n",
       "2      negative  \n",
       "\n",
       "[3 rows x 22 columns]"
      ]
     },
     "execution_count": 16,
     "metadata": {},
     "output_type": "execute_result"
    }
   ],
   "source": [
    "# examining data frame with sentiment scores and bins\n",
    "data.head(3)"
   ]
  },
  {
   "cell_type": "markdown",
   "metadata": {},
   "source": [
    "#### **Pysentimiento Sentiment and Emotion Analysis**"
   ]
  },
  {
   "cell_type": "code",
   "execution_count": null,
   "metadata": {},
   "outputs": [],
   "source": [
    "#!pip install pysentimiento"
   ]
  },
  {
   "cell_type": "markdown",
   "metadata": {},
   "source": [
    "Making model instances for each pysentimiento model"
   ]
  },
  {
   "cell_type": "code",
   "execution_count": 13,
   "metadata": {},
   "outputs": [
    {
     "data": {
      "application/vnd.jupyter.widget-view+json": {
       "model_id": "c9fc2a75579842f0b0e98086108986bc",
       "version_major": 2,
       "version_minor": 0
      },
      "text/plain": [
       "Downloading:   0%|          | 0.00/890 [00:00<?, ?B/s]"
      ]
     },
     "metadata": {},
     "output_type": "display_data"
    },
    {
     "data": {
      "application/vnd.jupyter.widget-view+json": {
       "model_id": "cd22df6400e9476a88fc1ba6c95ad5a8",
       "version_major": 2,
       "version_minor": 0
      },
      "text/plain": [
       "Downloading:   0%|          | 0.00/540M [00:00<?, ?B/s]"
      ]
     },
     "metadata": {},
     "output_type": "display_data"
    },
    {
     "data": {
      "application/vnd.jupyter.widget-view+json": {
       "model_id": "20bc9498991e4c1fa98f78451df3e24d",
       "version_major": 2,
       "version_minor": 0
      },
      "text/plain": [
       "Downloading:   0%|          | 0.00/295 [00:00<?, ?B/s]"
      ]
     },
     "metadata": {},
     "output_type": "display_data"
    },
    {
     "data": {
      "application/vnd.jupyter.widget-view+json": {
       "model_id": "3c2f61ae4a8d4be3924b31258686ac8f",
       "version_major": 2,
       "version_minor": 0
      },
      "text/plain": [
       "Downloading:   0%|          | 0.00/843k [00:00<?, ?B/s]"
      ]
     },
     "metadata": {},
     "output_type": "display_data"
    },
    {
     "data": {
      "application/vnd.jupyter.widget-view+json": {
       "model_id": "7ce0ea01ce3e4d39b2401b1b771ca35b",
       "version_major": 2,
       "version_minor": 0
      },
      "text/plain": [
       "Downloading:   0%|          | 0.00/1.08M [00:00<?, ?B/s]"
      ]
     },
     "metadata": {},
     "output_type": "display_data"
    },
    {
     "data": {
      "application/vnd.jupyter.widget-view+json": {
       "model_id": "62a66773a11345aa832f16ca1e007364",
       "version_major": 2,
       "version_minor": 0
      },
      "text/plain": [
       "Downloading:   0%|          | 0.00/17.0 [00:00<?, ?B/s]"
      ]
     },
     "metadata": {},
     "output_type": "display_data"
    },
    {
     "data": {
      "application/vnd.jupyter.widget-view+json": {
       "model_id": "c08a58ff4beb4c719cb12fd696b8ca3b",
       "version_major": 2,
       "version_minor": 0
      },
      "text/plain": [
       "Downloading:   0%|          | 0.00/150 [00:00<?, ?B/s]"
      ]
     },
     "metadata": {},
     "output_type": "display_data"
    },
    {
     "data": {
      "application/vnd.jupyter.widget-view+json": {
       "model_id": "9d4cdb53bb534e86bac236d6069a100e",
       "version_major": 2,
       "version_minor": 0
      },
      "text/plain": [
       "Downloading:   0%|          | 0.00/999 [00:00<?, ?B/s]"
      ]
     },
     "metadata": {},
     "output_type": "display_data"
    },
    {
     "name": "stderr",
     "output_type": "stream",
     "text": [
      "loading configuration file config.json from cache at /Users/sampastoriza/.cache/huggingface/hub/models--finiteautomata--bertweet-base-emotion-analysis/snapshots/64046df9cc41eab40e1ecde7d2b7fb42b971be5b/config.json\n",
      "Model config RobertaConfig {\n",
      "  \"_name_or_path\": \"finiteautomata/bertweet-base-emotion-analysis\",\n",
      "  \"architectures\": [\n",
      "    \"RobertaForSequenceClassification\"\n",
      "  ],\n",
      "  \"attention_probs_dropout_prob\": 0.1,\n",
      "  \"bos_token_id\": 0,\n",
      "  \"classifier_dropout\": null,\n",
      "  \"eos_token_id\": 2,\n",
      "  \"gradient_checkpointing\": false,\n",
      "  \"hidden_act\": \"gelu\",\n",
      "  \"hidden_dropout_prob\": 0.1,\n",
      "  \"hidden_size\": 768,\n",
      "  \"id2label\": {\n",
      "    \"0\": \"others\",\n",
      "    \"1\": \"joy\",\n",
      "    \"2\": \"sadness\",\n",
      "    \"3\": \"anger\",\n",
      "    \"4\": \"surprise\",\n",
      "    \"5\": \"disgust\",\n",
      "    \"6\": \"fear\"\n",
      "  },\n",
      "  \"initializer_range\": 0.02,\n",
      "  \"intermediate_size\": 3072,\n",
      "  \"label2id\": {\n",
      "    \"anger\": 3,\n",
      "    \"disgust\": 5,\n",
      "    \"fear\": 6,\n",
      "    \"joy\": 1,\n",
      "    \"others\": 0,\n",
      "    \"sadness\": 2,\n",
      "    \"surprise\": 4\n",
      "  },\n",
      "  \"layer_norm_eps\": 1e-05,\n",
      "  \"max_position_embeddings\": 130,\n",
      "  \"model_type\": \"roberta\",\n",
      "  \"num_attention_heads\": 12,\n",
      "  \"num_hidden_layers\": 12,\n",
      "  \"pad_token_id\": 1,\n",
      "  \"position_embedding_type\": \"absolute\",\n",
      "  \"tokenizer_class\": \"BertweetTokenizer\",\n",
      "  \"transformers_version\": \"4.23.1\",\n",
      "  \"type_vocab_size\": 1,\n",
      "  \"use_cache\": true,\n",
      "  \"vocab_size\": 64001\n",
      "}\n",
      "\n"
     ]
    },
    {
     "data": {
      "application/vnd.jupyter.widget-view+json": {
       "model_id": "e071e1dde15c44ee98207f6e474b8c89",
       "version_major": 2,
       "version_minor": 0
      },
      "text/plain": [
       "Downloading:   0%|          | 0.00/540M [00:00<?, ?B/s]"
      ]
     },
     "metadata": {},
     "output_type": "display_data"
    },
    {
     "name": "stderr",
     "output_type": "stream",
     "text": [
      "loading weights file pytorch_model.bin from cache at /Users/sampastoriza/.cache/huggingface/hub/models--finiteautomata--bertweet-base-emotion-analysis/snapshots/64046df9cc41eab40e1ecde7d2b7fb42b971be5b/pytorch_model.bin\n",
      "All model checkpoint weights were used when initializing RobertaForSequenceClassification.\n",
      "\n",
      "All the weights of RobertaForSequenceClassification were initialized from the model checkpoint at finiteautomata/bertweet-base-emotion-analysis.\n",
      "If your task is similar to the task the model of the checkpoint was trained on, you can already use RobertaForSequenceClassification for predictions without further training.\n"
     ]
    },
    {
     "data": {
      "application/vnd.jupyter.widget-view+json": {
       "model_id": "59a57cc3af8646e7bf4479d794877a26",
       "version_major": 2,
       "version_minor": 0
      },
      "text/plain": [
       "Downloading:   0%|          | 0.00/295 [00:00<?, ?B/s]"
      ]
     },
     "metadata": {},
     "output_type": "display_data"
    },
    {
     "name": "stderr",
     "output_type": "stream",
     "text": [
      "loading configuration file config.json from cache at /Users/sampastoriza/.cache/huggingface/hub/models--finiteautomata--bertweet-base-emotion-analysis/snapshots/64046df9cc41eab40e1ecde7d2b7fb42b971be5b/config.json\n",
      "Model config RobertaConfig {\n",
      "  \"_name_or_path\": \"finiteautomata/bertweet-base-emotion-analysis\",\n",
      "  \"architectures\": [\n",
      "    \"RobertaForSequenceClassification\"\n",
      "  ],\n",
      "  \"attention_probs_dropout_prob\": 0.1,\n",
      "  \"bos_token_id\": 0,\n",
      "  \"classifier_dropout\": null,\n",
      "  \"eos_token_id\": 2,\n",
      "  \"gradient_checkpointing\": false,\n",
      "  \"hidden_act\": \"gelu\",\n",
      "  \"hidden_dropout_prob\": 0.1,\n",
      "  \"hidden_size\": 768,\n",
      "  \"id2label\": {\n",
      "    \"0\": \"others\",\n",
      "    \"1\": \"joy\",\n",
      "    \"2\": \"sadness\",\n",
      "    \"3\": \"anger\",\n",
      "    \"4\": \"surprise\",\n",
      "    \"5\": \"disgust\",\n",
      "    \"6\": \"fear\"\n",
      "  },\n",
      "  \"initializer_range\": 0.02,\n",
      "  \"intermediate_size\": 3072,\n",
      "  \"label2id\": {\n",
      "    \"anger\": 3,\n",
      "    \"disgust\": 5,\n",
      "    \"fear\": 6,\n",
      "    \"joy\": 1,\n",
      "    \"others\": 0,\n",
      "    \"sadness\": 2,\n",
      "    \"surprise\": 4\n",
      "  },\n",
      "  \"layer_norm_eps\": 1e-05,\n",
      "  \"max_position_embeddings\": 130,\n",
      "  \"model_type\": \"roberta\",\n",
      "  \"num_attention_heads\": 12,\n",
      "  \"num_hidden_layers\": 12,\n",
      "  \"pad_token_id\": 1,\n",
      "  \"position_embedding_type\": \"absolute\",\n",
      "  \"tokenizer_class\": \"BertweetTokenizer\",\n",
      "  \"transformers_version\": \"4.23.1\",\n",
      "  \"type_vocab_size\": 1,\n",
      "  \"use_cache\": true,\n",
      "  \"vocab_size\": 64001\n",
      "}\n",
      "\n"
     ]
    },
    {
     "data": {
      "application/vnd.jupyter.widget-view+json": {
       "model_id": "9f2bdff2a2fc427d855f452970e859b0",
       "version_major": 2,
       "version_minor": 0
      },
      "text/plain": [
       "Downloading:   0%|          | 0.00/843k [00:00<?, ?B/s]"
      ]
     },
     "metadata": {},
     "output_type": "display_data"
    },
    {
     "data": {
      "application/vnd.jupyter.widget-view+json": {
       "model_id": "372c27173bd444e1a2b7b0ae7e02c40d",
       "version_major": 2,
       "version_minor": 0
      },
      "text/plain": [
       "Downloading:   0%|          | 0.00/1.08M [00:00<?, ?B/s]"
      ]
     },
     "metadata": {},
     "output_type": "display_data"
    },
    {
     "data": {
      "application/vnd.jupyter.widget-view+json": {
       "model_id": "dd5a5f35c0c543f5a9fbb178b3bf4ed9",
       "version_major": 2,
       "version_minor": 0
      },
      "text/plain": [
       "Downloading:   0%|          | 0.00/17.0 [00:00<?, ?B/s]"
      ]
     },
     "metadata": {},
     "output_type": "display_data"
    },
    {
     "data": {
      "application/vnd.jupyter.widget-view+json": {
       "model_id": "d1401a98dc594ee9bf28cb4d75eb5f8a",
       "version_major": 2,
       "version_minor": 0
      },
      "text/plain": [
       "Downloading:   0%|          | 0.00/150 [00:00<?, ?B/s]"
      ]
     },
     "metadata": {},
     "output_type": "display_data"
    },
    {
     "name": "stderr",
     "output_type": "stream",
     "text": [
      "loading file vocab.txt from cache at /Users/sampastoriza/.cache/huggingface/hub/models--finiteautomata--bertweet-base-emotion-analysis/snapshots/64046df9cc41eab40e1ecde7d2b7fb42b971be5b/vocab.txt\n",
      "loading file bpe.codes from cache at /Users/sampastoriza/.cache/huggingface/hub/models--finiteautomata--bertweet-base-emotion-analysis/snapshots/64046df9cc41eab40e1ecde7d2b7fb42b971be5b/bpe.codes\n",
      "loading file added_tokens.json from cache at /Users/sampastoriza/.cache/huggingface/hub/models--finiteautomata--bertweet-base-emotion-analysis/snapshots/64046df9cc41eab40e1ecde7d2b7fb42b971be5b/added_tokens.json\n",
      "loading file special_tokens_map.json from cache at /Users/sampastoriza/.cache/huggingface/hub/models--finiteautomata--bertweet-base-emotion-analysis/snapshots/64046df9cc41eab40e1ecde7d2b7fb42b971be5b/special_tokens_map.json\n",
      "loading file tokenizer_config.json from cache at /Users/sampastoriza/.cache/huggingface/hub/models--finiteautomata--bertweet-base-emotion-analysis/snapshots/64046df9cc41eab40e1ecde7d2b7fb42b971be5b/tokenizer_config.json\n",
      "loading configuration file config.json from cache at /Users/sampastoriza/.cache/huggingface/hub/models--finiteautomata--bertweet-base-emotion-analysis/snapshots/64046df9cc41eab40e1ecde7d2b7fb42b971be5b/config.json\n",
      "Model config RobertaConfig {\n",
      "  \"_name_or_path\": \"finiteautomata/bertweet-base-emotion-analysis\",\n",
      "  \"architectures\": [\n",
      "    \"RobertaForSequenceClassification\"\n",
      "  ],\n",
      "  \"attention_probs_dropout_prob\": 0.1,\n",
      "  \"bos_token_id\": 0,\n",
      "  \"classifier_dropout\": null,\n",
      "  \"eos_token_id\": 2,\n",
      "  \"gradient_checkpointing\": false,\n",
      "  \"hidden_act\": \"gelu\",\n",
      "  \"hidden_dropout_prob\": 0.1,\n",
      "  \"hidden_size\": 768,\n",
      "  \"id2label\": {\n",
      "    \"0\": \"others\",\n",
      "    \"1\": \"joy\",\n",
      "    \"2\": \"sadness\",\n",
      "    \"3\": \"anger\",\n",
      "    \"4\": \"surprise\",\n",
      "    \"5\": \"disgust\",\n",
      "    \"6\": \"fear\"\n",
      "  },\n",
      "  \"initializer_range\": 0.02,\n",
      "  \"intermediate_size\": 3072,\n",
      "  \"label2id\": {\n",
      "    \"anger\": 3,\n",
      "    \"disgust\": 5,\n",
      "    \"fear\": 6,\n",
      "    \"joy\": 1,\n",
      "    \"others\": 0,\n",
      "    \"sadness\": 2,\n",
      "    \"surprise\": 4\n",
      "  },\n",
      "  \"layer_norm_eps\": 1e-05,\n",
      "  \"max_position_embeddings\": 130,\n",
      "  \"model_type\": \"roberta\",\n",
      "  \"num_attention_heads\": 12,\n",
      "  \"num_hidden_layers\": 12,\n",
      "  \"pad_token_id\": 1,\n",
      "  \"position_embedding_type\": \"absolute\",\n",
      "  \"tokenizer_class\": \"BertweetTokenizer\",\n",
      "  \"transformers_version\": \"4.23.1\",\n",
      "  \"type_vocab_size\": 1,\n",
      "  \"use_cache\": true,\n",
      "  \"vocab_size\": 64001\n",
      "}\n",
      "\n",
      "Adding <mask> to the vocabulary\n",
      "PyTorch: setting up devices\n",
      "The default value for the training argument `--report_to` will change in v5 (from all installed integrations to none). In v5, you will need to use `--report_to all` to get the same behavior as now. You should start updating your code and make this info disappear :-).\n"
     ]
    },
    {
     "data": {
      "application/vnd.jupyter.widget-view+json": {
       "model_id": "dc66719b17ac405a8bd152d99e378c7c",
       "version_major": 2,
       "version_minor": 0
      },
      "text/plain": [
       "Downloading:   0%|          | 0.00/980 [00:00<?, ?B/s]"
      ]
     },
     "metadata": {},
     "output_type": "display_data"
    },
    {
     "name": "stderr",
     "output_type": "stream",
     "text": [
      "loading configuration file config.json from cache at /Users/sampastoriza/.cache/huggingface/hub/models--pysentimiento--bertweet-hate-speech/snapshots/8913cd6a2515f3e033c3b097f68d3bfb41079c54/config.json\n",
      "Model config RobertaConfig {\n",
      "  \"_name_or_path\": \"pysentimiento/bertweet-hate-speech\",\n",
      "  \"architectures\": [\n",
      "    \"RobertaForSequenceClassification\"\n",
      "  ],\n",
      "  \"attention_probs_dropout_prob\": 0.1,\n",
      "  \"bos_token_id\": 0,\n",
      "  \"classifier_dropout\": null,\n",
      "  \"eos_token_id\": 2,\n",
      "  \"gradient_checkpointing\": false,\n",
      "  \"hidden_act\": \"gelu\",\n",
      "  \"hidden_dropout_prob\": 0.1,\n",
      "  \"hidden_size\": 768,\n",
      "  \"id2label\": {\n",
      "    \"0\": \"hateful\",\n",
      "    \"1\": \"targeted\",\n",
      "    \"2\": \"aggressive\"\n",
      "  },\n",
      "  \"initializer_range\": 0.02,\n",
      "  \"intermediate_size\": 3072,\n",
      "  \"label2id\": {\n",
      "    \"aggressive\": 2,\n",
      "    \"hateful\": 0,\n",
      "    \"targeted\": 1\n",
      "  },\n",
      "  \"layer_norm_eps\": 1e-05,\n",
      "  \"max_position_embeddings\": 130,\n",
      "  \"model_type\": \"roberta\",\n",
      "  \"num_attention_heads\": 12,\n",
      "  \"num_hidden_layers\": 12,\n",
      "  \"pad_token_id\": 1,\n",
      "  \"position_embedding_type\": \"absolute\",\n",
      "  \"problem_type\": \"multi_label_classification\",\n",
      "  \"tokenizer_class\": \"BertweetTokenizer\",\n",
      "  \"torch_dtype\": \"float32\",\n",
      "  \"transformers_version\": \"4.23.1\",\n",
      "  \"type_vocab_size\": 1,\n",
      "  \"use_cache\": true,\n",
      "  \"vocab_size\": 64001\n",
      "}\n",
      "\n"
     ]
    },
    {
     "data": {
      "application/vnd.jupyter.widget-view+json": {
       "model_id": "d9a730973e0e4974a4369b263ae81bb3",
       "version_major": 2,
       "version_minor": 0
      },
      "text/plain": [
       "Downloading:   0%|          | 0.00/540M [00:00<?, ?B/s]"
      ]
     },
     "metadata": {},
     "output_type": "display_data"
    },
    {
     "name": "stderr",
     "output_type": "stream",
     "text": [
      "loading weights file pytorch_model.bin from cache at /Users/sampastoriza/.cache/huggingface/hub/models--pysentimiento--bertweet-hate-speech/snapshots/8913cd6a2515f3e033c3b097f68d3bfb41079c54/pytorch_model.bin\n",
      "All model checkpoint weights were used when initializing RobertaForSequenceClassification.\n",
      "\n",
      "All the weights of RobertaForSequenceClassification were initialized from the model checkpoint at pysentimiento/bertweet-hate-speech.\n",
      "If your task is similar to the task the model of the checkpoint was trained on, you can already use RobertaForSequenceClassification for predictions without further training.\n"
     ]
    },
    {
     "data": {
      "application/vnd.jupyter.widget-view+json": {
       "model_id": "4f69dba4de124694a200728d5995caf6",
       "version_major": 2,
       "version_minor": 0
      },
      "text/plain": [
       "Downloading:   0%|          | 0.00/335 [00:00<?, ?B/s]"
      ]
     },
     "metadata": {},
     "output_type": "display_data"
    },
    {
     "data": {
      "application/vnd.jupyter.widget-view+json": {
       "model_id": "43ba9670d018470e9f5f1f25da9d743d",
       "version_major": 2,
       "version_minor": 0
      },
      "text/plain": [
       "Downloading:   0%|          | 0.00/843k [00:00<?, ?B/s]"
      ]
     },
     "metadata": {},
     "output_type": "display_data"
    },
    {
     "data": {
      "application/vnd.jupyter.widget-view+json": {
       "model_id": "689d56d699984971bf1078963ffe4ece",
       "version_major": 2,
       "version_minor": 0
      },
      "text/plain": [
       "Downloading:   0%|          | 0.00/1.08M [00:00<?, ?B/s]"
      ]
     },
     "metadata": {},
     "output_type": "display_data"
    },
    {
     "data": {
      "application/vnd.jupyter.widget-view+json": {
       "model_id": "fe027e75dcd14050b3896053b2e5bf1b",
       "version_major": 2,
       "version_minor": 0
      },
      "text/plain": [
       "Downloading:   0%|          | 0.00/17.0 [00:00<?, ?B/s]"
      ]
     },
     "metadata": {},
     "output_type": "display_data"
    },
    {
     "data": {
      "application/vnd.jupyter.widget-view+json": {
       "model_id": "b5bd6030658d4a34ba3932ba77463bb0",
       "version_major": 2,
       "version_minor": 0
      },
      "text/plain": [
       "Downloading:   0%|          | 0.00/150 [00:00<?, ?B/s]"
      ]
     },
     "metadata": {},
     "output_type": "display_data"
    },
    {
     "name": "stderr",
     "output_type": "stream",
     "text": [
      "loading file vocab.txt from cache at /Users/sampastoriza/.cache/huggingface/hub/models--pysentimiento--bertweet-hate-speech/snapshots/8913cd6a2515f3e033c3b097f68d3bfb41079c54/vocab.txt\n",
      "loading file bpe.codes from cache at /Users/sampastoriza/.cache/huggingface/hub/models--pysentimiento--bertweet-hate-speech/snapshots/8913cd6a2515f3e033c3b097f68d3bfb41079c54/bpe.codes\n",
      "loading file added_tokens.json from cache at /Users/sampastoriza/.cache/huggingface/hub/models--pysentimiento--bertweet-hate-speech/snapshots/8913cd6a2515f3e033c3b097f68d3bfb41079c54/added_tokens.json\n",
      "loading file special_tokens_map.json from cache at /Users/sampastoriza/.cache/huggingface/hub/models--pysentimiento--bertweet-hate-speech/snapshots/8913cd6a2515f3e033c3b097f68d3bfb41079c54/special_tokens_map.json\n",
      "loading file tokenizer_config.json from cache at /Users/sampastoriza/.cache/huggingface/hub/models--pysentimiento--bertweet-hate-speech/snapshots/8913cd6a2515f3e033c3b097f68d3bfb41079c54/tokenizer_config.json\n",
      "Adding <mask> to the vocabulary\n",
      "PyTorch: setting up devices\n",
      "The default value for the training argument `--report_to` will change in v5 (from all installed integrations to none). In v5, you will need to use `--report_to all` to get the same behavior as now. You should start updating your code and make this info disappear :-).\n"
     ]
    }
   ],
   "source": [
    "### THIS TAKES A LONG TIME TO RUN \n",
    "from pysentimiento import create_analyzer\n",
    "\n",
    "# loading transformer sentiment model \n",
    "analyzer = create_analyzer(task=\"sentiment\", lang=\"en\")\n",
    "\n",
    "# loading transformer emotion model \n",
    "emotion_analyzer = create_analyzer(task=\"emotion\", lang=\"en\")\n",
    "\n",
    "# loading transformer hate speech model \n",
    "hate_speech_analyzer = create_analyzer(task=\"hate_speech\", lang=\"en\")\n"
   ]
  },
  {
   "cell_type": "code",
   "execution_count": 14,
   "metadata": {},
   "outputs": [],
   "source": [
    "# getting output from transformer sentiment model \n",
    "def enhanced_sentiment_scores(text):\n",
    "    score = analyzer.predict(text) \n",
    "    return score\n",
    "\n",
    "# getting output from transformer emotion model \n",
    "def emotion_scores(text):\n",
    "    score = emotion_analyzer.predict(text) \n",
    "    return score\n",
    "\n",
    "# getting output from transformer hate speech model \n",
    "def hate_speech_scores(text):\n",
    "    score = hate_speech_analyzer.predict(text) \n",
    "    return score"
   ]
  },
  {
   "cell_type": "code",
   "execution_count": 15,
   "metadata": {},
   "outputs": [],
   "source": [
    "### THIS TAKES A LONG TIME TO RUN \n",
    "\n",
    "data['pysentimiento_sentiment'] = data['text_clean'].apply(enhanced_sentiment_scores)\n",
    "\n",
    "data['pysentimiento_emotion'] = data['text_clean'].apply(emotion_scores)\n",
    "\n",
    "data['pysentimiento_hate'] = data['text_clean'].apply(hate_speech_scores)"
   ]
  },
  {
   "cell_type": "code",
   "execution_count": 21,
   "metadata": {},
   "outputs": [],
   "source": [
    "data['sentiment_probs'] = data['pysentimiento_sentiment'].apply(lambda x: x.probas)\n",
    "data['sentiment_output'] = data['pysentimiento_sentiment'].apply(lambda x: x.output)\n",
    "\n",
    "data['emotion_probs'] = data['pysentimiento_emotion'].apply(lambda x: x.probas)\n",
    "data['emotion_output'] = data['pysentimiento_emotion'].apply(lambda x: x.output)\n",
    "\n",
    "data['hate_probs'] = data['pysentimiento_hate'].apply(lambda x: x.probas)\n",
    "data['hate_output'] = data['pysentimiento_hate'].apply(lambda x: x.output)"
   ]
  },
  {
   "cell_type": "code",
   "execution_count": 23,
   "metadata": {},
   "outputs": [],
   "source": [
    "data = data.drop(columns=['pysentimiento_sentiment', 'pysentimiento_emotion', 'pysentimiento_hate'])"
   ]
  },
  {
   "cell_type": "code",
   "execution_count": 24,
   "metadata": {},
   "outputs": [
    {
     "data": {
      "text/html": [
       "<div>\n",
       "<style scoped>\n",
       "    .dataframe tbody tr th:only-of-type {\n",
       "        vertical-align: middle;\n",
       "    }\n",
       "\n",
       "    .dataframe tbody tr th {\n",
       "        vertical-align: top;\n",
       "    }\n",
       "\n",
       "    .dataframe thead th {\n",
       "        text-align: right;\n",
       "    }\n",
       "</style>\n",
       "<table border=\"1\" class=\"dataframe\">\n",
       "  <thead>\n",
       "    <tr style=\"text-align: right;\">\n",
       "      <th></th>\n",
       "      <th>Unnamed: 0</th>\n",
       "      <th>created_at</th>\n",
       "      <th>text</th>\n",
       "      <th>hashtags</th>\n",
       "      <th>user_mention_ids</th>\n",
       "      <th>user_mention_screen_names</th>\n",
       "      <th>retweet_count</th>\n",
       "      <th>favorite_count</th>\n",
       "      <th>in_reply_to_user_id</th>\n",
       "      <th>in_reply_to_screen_name</th>\n",
       "      <th>...</th>\n",
       "      <th>topic_y</th>\n",
       "      <th>cleaned_text</th>\n",
       "      <th>sentiment_score</th>\n",
       "      <th>sentiment_bin</th>\n",
       "      <th>sentiment_output</th>\n",
       "      <th>sentiment_probs</th>\n",
       "      <th>emotion_output</th>\n",
       "      <th>_probs</th>\n",
       "      <th>hate_output</th>\n",
       "      <th>hate_probs</th>\n",
       "    </tr>\n",
       "  </thead>\n",
       "  <tbody>\n",
       "    <tr>\n",
       "      <th>0</th>\n",
       "      <td>0</td>\n",
       "      <td>2022-10-18 00:00:00</td>\n",
       "      <td>Sharp words on guns in Shane Hazel to Stacey A...</td>\n",
       "      <td>['gagovdebate']</td>\n",
       "      <td>[]</td>\n",
       "      <td>[]</td>\n",
       "      <td>5</td>\n",
       "      <td>24</td>\n",
       "      <td>NaN</td>\n",
       "      <td>NaN</td>\n",
       "      <td>...</td>\n",
       "      <td>abrams</td>\n",
       "      <td>Sharp words on guns in Shane Hazel to Stacey A...</td>\n",
       "      <td>0.3818</td>\n",
       "      <td>positive</td>\n",
       "      <td>{'NEG': 0.8212317228317261, 'NEU': 0.174511402...</td>\n",
       "      <td>NEG</td>\n",
       "      <td>{'others': 0.207327738404274, 'joy': 0.0029463...</td>\n",
       "      <td>disgust</td>\n",
       "      <td>{'hateful': 0.006341646425426006, 'targeted': ...</td>\n",
       "      <td>[]</td>\n",
       "    </tr>\n",
       "    <tr>\n",
       "      <th>1</th>\n",
       "      <td>1</td>\n",
       "      <td>2022-10-18 00:00:01</td>\n",
       "      <td>Stacey Abrams won tonight. She kept to the fac...</td>\n",
       "      <td>[]</td>\n",
       "      <td>[]</td>\n",
       "      <td>[]</td>\n",
       "      <td>0</td>\n",
       "      <td>6</td>\n",
       "      <td>NaN</td>\n",
       "      <td>NaN</td>\n",
       "      <td>...</td>\n",
       "      <td>abrams</td>\n",
       "      <td>Stacey Abrams won tonight She kept to the fact...</td>\n",
       "      <td>0.7351</td>\n",
       "      <td>positive</td>\n",
       "      <td>{'NEG': 0.016344917938113213, 'NEU': 0.3160411...</td>\n",
       "      <td>POS</td>\n",
       "      <td>{'others': 0.9740464687347412, 'joy': 0.014125...</td>\n",
       "      <td>others</td>\n",
       "      <td>{'hateful': 0.01308343093842268, 'targeted': 0...</td>\n",
       "      <td>[]</td>\n",
       "    </tr>\n",
       "    <tr>\n",
       "      <th>2</th>\n",
       "      <td>2</td>\n",
       "      <td>2022-10-18 00:00:01</td>\n",
       "      <td>Why did Joe Rogan send his little brother, Sha...</td>\n",
       "      <td>['GAGovDebate']</td>\n",
       "      <td>[]</td>\n",
       "      <td>[]</td>\n",
       "      <td>0</td>\n",
       "      <td>5</td>\n",
       "      <td>NaN</td>\n",
       "      <td>NaN</td>\n",
       "      <td>...</td>\n",
       "      <td>abrams</td>\n",
       "      <td>Why did Joe Rogan send his little brother Shan...</td>\n",
       "      <td>-0.2500</td>\n",
       "      <td>negative</td>\n",
       "      <td>{'NEG': 0.39890310168266296, 'NEU': 0.59211242...</td>\n",
       "      <td>NEU</td>\n",
       "      <td>{'others': 0.05201367661356926, 'joy': 0.00170...</td>\n",
       "      <td>disgust</td>\n",
       "      <td>{'hateful': 0.07990611344575882, 'targeted': 0...</td>\n",
       "      <td>[]</td>\n",
       "    </tr>\n",
       "    <tr>\n",
       "      <th>3</th>\n",
       "      <td>3</td>\n",
       "      <td>2022-10-18 00:00:08</td>\n",
       "      <td>Viral handbag designer and EBONY Power100 Styl...</td>\n",
       "      <td>['StaceyAbrams', 'BrandonBlackwood', 'EBONYMag']</td>\n",
       "      <td>[]</td>\n",
       "      <td>[]</td>\n",
       "      <td>1</td>\n",
       "      <td>8</td>\n",
       "      <td>NaN</td>\n",
       "      <td>NaN</td>\n",
       "      <td>...</td>\n",
       "      <td>abrams</td>\n",
       "      <td>Viral handbag designer and EBONY Powernumber S...</td>\n",
       "      <td>0.7184</td>\n",
       "      <td>positive</td>\n",
       "      <td>{'NEG': 0.0015979005256667733, 'NEU': 0.925578...</td>\n",
       "      <td>NEU</td>\n",
       "      <td>{'others': 0.9076645970344543, 'joy': 0.080004...</td>\n",
       "      <td>others</td>\n",
       "      <td>{'hateful': 0.0050714933313429356, 'targeted':...</td>\n",
       "      <td>[]</td>\n",
       "    </tr>\n",
       "    <tr>\n",
       "      <th>4</th>\n",
       "      <td>4</td>\n",
       "      <td>2022-10-18 00:00:11</td>\n",
       "      <td>THE MOST DANGEROUS THING FACING GEORGIA IS 4 M...</td>\n",
       "      <td>[]</td>\n",
       "      <td>[]</td>\n",
       "      <td>[]</td>\n",
       "      <td>212</td>\n",
       "      <td>528</td>\n",
       "      <td>NaN</td>\n",
       "      <td>NaN</td>\n",
       "      <td>...</td>\n",
       "      <td>kemp</td>\n",
       "      <td>THE MOST DANGEROUS THING FACING GEORGIA IS num...</td>\n",
       "      <td>0.1776</td>\n",
       "      <td>positive</td>\n",
       "      <td>{'NEG': 0.9775214195251465, 'NEU': 0.018825154...</td>\n",
       "      <td>NEG</td>\n",
       "      <td>{'others': 0.007493030279874802, 'joy': 0.0018...</td>\n",
       "      <td>fear</td>\n",
       "      <td>{'hateful': 0.009111088700592518, 'targeted': ...</td>\n",
       "      <td>[]</td>\n",
       "    </tr>\n",
       "  </tbody>\n",
       "</table>\n",
       "<p>5 rows × 31 columns</p>\n",
       "</div>"
      ],
      "text/plain": [
       "   Unnamed: 0           created_at  \\\n",
       "0           0  2022-10-18 00:00:00   \n",
       "1           1  2022-10-18 00:00:01   \n",
       "2           2  2022-10-18 00:00:01   \n",
       "3           3  2022-10-18 00:00:08   \n",
       "4           4  2022-10-18 00:00:11   \n",
       "\n",
       "                                                text  \\\n",
       "0  Sharp words on guns in Shane Hazel to Stacey A...   \n",
       "1  Stacey Abrams won tonight. She kept to the fac...   \n",
       "2  Why did Joe Rogan send his little brother, Sha...   \n",
       "3  Viral handbag designer and EBONY Power100 Styl...   \n",
       "4  THE MOST DANGEROUS THING FACING GEORGIA IS 4 M...   \n",
       "\n",
       "                                           hashtags user_mention_ids  \\\n",
       "0                                   ['gagovdebate']               []   \n",
       "1                                                []               []   \n",
       "2                                   ['GAGovDebate']               []   \n",
       "3  ['StaceyAbrams', 'BrandonBlackwood', 'EBONYMag']               []   \n",
       "4                                                []               []   \n",
       "\n",
       "  user_mention_screen_names  retweet_count  favorite_count  \\\n",
       "0                        []              5              24   \n",
       "1                        []              0               6   \n",
       "2                        []              0               5   \n",
       "3                        []              1               8   \n",
       "4                        []            212             528   \n",
       "\n",
       "   in_reply_to_user_id in_reply_to_screen_name  ... topic_y  \\\n",
       "0                  NaN                     NaN  ...  abrams   \n",
       "1                  NaN                     NaN  ...  abrams   \n",
       "2                  NaN                     NaN  ...  abrams   \n",
       "3                  NaN                     NaN  ...  abrams   \n",
       "4                  NaN                     NaN  ...    kemp   \n",
       "\n",
       "                                        cleaned_text  sentiment_score  \\\n",
       "0  Sharp words on guns in Shane Hazel to Stacey A...           0.3818   \n",
       "1  Stacey Abrams won tonight She kept to the fact...           0.7351   \n",
       "2  Why did Joe Rogan send his little brother Shan...          -0.2500   \n",
       "3  Viral handbag designer and EBONY Powernumber S...           0.7184   \n",
       "4  THE MOST DANGEROUS THING FACING GEORGIA IS num...           0.1776   \n",
       "\n",
       "  sentiment_bin                                   sentiment_output  \\\n",
       "0      positive  {'NEG': 0.8212317228317261, 'NEU': 0.174511402...   \n",
       "1      positive  {'NEG': 0.016344917938113213, 'NEU': 0.3160411...   \n",
       "2      negative  {'NEG': 0.39890310168266296, 'NEU': 0.59211242...   \n",
       "3      positive  {'NEG': 0.0015979005256667733, 'NEU': 0.925578...   \n",
       "4      positive  {'NEG': 0.9775214195251465, 'NEU': 0.018825154...   \n",
       "\n",
       "  sentiment_probs                                     emotion_output   _probs  \\\n",
       "0             NEG  {'others': 0.207327738404274, 'joy': 0.0029463...  disgust   \n",
       "1             POS  {'others': 0.9740464687347412, 'joy': 0.014125...   others   \n",
       "2             NEU  {'others': 0.05201367661356926, 'joy': 0.00170...  disgust   \n",
       "3             NEU  {'others': 0.9076645970344543, 'joy': 0.080004...   others   \n",
       "4             NEG  {'others': 0.007493030279874802, 'joy': 0.0018...     fear   \n",
       "\n",
       "                                         hate_output  hate_probs  \n",
       "0  {'hateful': 0.006341646425426006, 'targeted': ...          []  \n",
       "1  {'hateful': 0.01308343093842268, 'targeted': 0...          []  \n",
       "2  {'hateful': 0.07990611344575882, 'targeted': 0...          []  \n",
       "3  {'hateful': 0.0050714933313429356, 'targeted':...          []  \n",
       "4  {'hateful': 0.009111088700592518, 'targeted': ...          []  \n",
       "\n",
       "[5 rows x 31 columns]"
      ]
     },
     "execution_count": 24,
     "metadata": {},
     "output_type": "execute_result"
    }
   ],
   "source": [
    "data.head(5)"
   ]
  },
  {
   "cell_type": "code",
   "execution_count": 25,
   "metadata": {},
   "outputs": [],
   "source": [
    "# Save to csv file\n",
    "data.to_csv('data_with_sentiment.csv', index=False)"
   ]
  },
  {
   "cell_type": "code",
   "execution_count": 20,
   "metadata": {},
   "outputs": [
    {
     "data": {
      "text/html": [
       "<div>\n",
       "<style scoped>\n",
       "    .dataframe tbody tr th:only-of-type {\n",
       "        vertical-align: middle;\n",
       "    }\n",
       "\n",
       "    .dataframe tbody tr th {\n",
       "        vertical-align: top;\n",
       "    }\n",
       "\n",
       "    .dataframe thead th {\n",
       "        text-align: right;\n",
       "    }\n",
       "</style>\n",
       "<table border=\"1\" class=\"dataframe\">\n",
       "  <thead>\n",
       "    <tr style=\"text-align: right;\">\n",
       "      <th></th>\n",
       "      <th>created_at</th>\n",
       "      <th>day</th>\n",
       "      <th>topic_y</th>\n",
       "      <th>sentiment</th>\n",
       "      <th>hate</th>\n",
       "      <th>emotion</th>\n",
       "    </tr>\n",
       "  </thead>\n",
       "  <tbody>\n",
       "    <tr>\n",
       "      <th>0</th>\n",
       "      <td>2022-10-18 00:00:00</td>\n",
       "      <td>2022-10-18</td>\n",
       "      <td>abrams</td>\n",
       "      <td>NEG</td>\n",
       "      <td>[]</td>\n",
       "      <td>disgust</td>\n",
       "    </tr>\n",
       "    <tr>\n",
       "      <th>1</th>\n",
       "      <td>2022-10-18 00:00:01</td>\n",
       "      <td>2022-10-18</td>\n",
       "      <td>abrams</td>\n",
       "      <td>POS</td>\n",
       "      <td>[]</td>\n",
       "      <td>others</td>\n",
       "    </tr>\n",
       "    <tr>\n",
       "      <th>2</th>\n",
       "      <td>2022-10-18 00:00:01</td>\n",
       "      <td>2022-10-18</td>\n",
       "      <td>abrams</td>\n",
       "      <td>NEU</td>\n",
       "      <td>[]</td>\n",
       "      <td>disgust</td>\n",
       "    </tr>\n",
       "    <tr>\n",
       "      <th>3</th>\n",
       "      <td>2022-10-18 00:00:08</td>\n",
       "      <td>2022-10-18</td>\n",
       "      <td>abrams</td>\n",
       "      <td>NEU</td>\n",
       "      <td>[]</td>\n",
       "      <td>others</td>\n",
       "    </tr>\n",
       "    <tr>\n",
       "      <th>4</th>\n",
       "      <td>2022-10-18 00:00:11</td>\n",
       "      <td>2022-10-18</td>\n",
       "      <td>kemp</td>\n",
       "      <td>NEG</td>\n",
       "      <td>[]</td>\n",
       "      <td>fear</td>\n",
       "    </tr>\n",
       "    <tr>\n",
       "      <th>...</th>\n",
       "      <td>...</td>\n",
       "      <td>...</td>\n",
       "      <td>...</td>\n",
       "      <td>...</td>\n",
       "      <td>...</td>\n",
       "      <td>...</td>\n",
       "    </tr>\n",
       "    <tr>\n",
       "      <th>51331</th>\n",
       "      <td>2022-11-08 23:59:46</td>\n",
       "      <td>2022-11-08</td>\n",
       "      <td>abrams</td>\n",
       "      <td>NEG</td>\n",
       "      <td>[]</td>\n",
       "      <td>others</td>\n",
       "    </tr>\n",
       "    <tr>\n",
       "      <th>51332</th>\n",
       "      <td>2022-11-08 23:59:54</td>\n",
       "      <td>2022-11-08</td>\n",
       "      <td>kemp</td>\n",
       "      <td>NEG</td>\n",
       "      <td>[]</td>\n",
       "      <td>disgust</td>\n",
       "    </tr>\n",
       "    <tr>\n",
       "      <th>51333</th>\n",
       "      <td>2022-11-08 23:59:57</td>\n",
       "      <td>2022-11-08</td>\n",
       "      <td>abrams</td>\n",
       "      <td>NEU</td>\n",
       "      <td>[]</td>\n",
       "      <td>others</td>\n",
       "    </tr>\n",
       "    <tr>\n",
       "      <th>51334</th>\n",
       "      <td>2022-11-08 23:59:57</td>\n",
       "      <td>2022-11-08</td>\n",
       "      <td>kemp</td>\n",
       "      <td>NEU</td>\n",
       "      <td>[]</td>\n",
       "      <td>others</td>\n",
       "    </tr>\n",
       "    <tr>\n",
       "      <th>51335</th>\n",
       "      <td>2022-11-08 23:59:57</td>\n",
       "      <td>2022-11-08</td>\n",
       "      <td>kemp</td>\n",
       "      <td>NEU</td>\n",
       "      <td>[]</td>\n",
       "      <td>others</td>\n",
       "    </tr>\n",
       "  </tbody>\n",
       "</table>\n",
       "<p>51336 rows × 6 columns</p>\n",
       "</div>"
      ],
      "text/plain": [
       "                created_at        day topic_y sentiment hate  emotion\n",
       "0      2022-10-18 00:00:00 2022-10-18  abrams       NEG   []  disgust\n",
       "1      2022-10-18 00:00:01 2022-10-18  abrams       POS   []   others\n",
       "2      2022-10-18 00:00:01 2022-10-18  abrams       NEU   []  disgust\n",
       "3      2022-10-18 00:00:08 2022-10-18  abrams       NEU   []   others\n",
       "4      2022-10-18 00:00:11 2022-10-18    kemp       NEG   []     fear\n",
       "...                    ...        ...     ...       ...  ...      ...\n",
       "51331  2022-11-08 23:59:46 2022-11-08  abrams       NEG   []   others\n",
       "51332  2022-11-08 23:59:54 2022-11-08    kemp       NEG   []  disgust\n",
       "51333  2022-11-08 23:59:57 2022-11-08  abrams       NEU   []   others\n",
       "51334  2022-11-08 23:59:57 2022-11-08    kemp       NEU   []   others\n",
       "51335  2022-11-08 23:59:57 2022-11-08    kemp       NEU   []   others\n",
       "\n",
       "[51336 rows x 6 columns]"
      ]
     },
     "execution_count": 20,
     "metadata": {},
     "output_type": "execute_result"
    }
   ],
   "source": [
    "sentiment_df = pd.read_csv('data_with_sentiment.csv')\n",
    "sentiment_df['day'] = pd.to_datetime(sentiment_df['created_at']).dt.floor('d')\n",
    "sentiment_df = sentiment_df[['created_at', 'day', 'topic', 'sentiment_probs', 'hate_probs', '_probs']]\n",
    "sentiment_df = sentiment_df.rename(columns = {\n",
    "    \"sentiment_probs\": \"sentiment\",\n",
    "    \"hate_probs\": \"hate\",\n",
    "    \"_probs\": \"emotion\",\n",
    "})\n",
    "sentiment_df"
   ]
  },
  {
   "cell_type": "code",
   "execution_count": 15,
   "metadata": {},
   "outputs": [
    {
     "data": {
      "text/plain": [
       "topic_y\n",
       "abrams                    32299\n",
       "abrams, election            576\n",
       "abrams, kemp               2228\n",
       "abrams, kemp, election      780\n",
       "election                   3726\n",
       "kemp                      10518\n",
       "kemp, election             1209\n",
       "dtype: int64"
      ]
     },
     "execution_count": 15,
     "metadata": {},
     "output_type": "execute_result"
    }
   ],
   "source": [
    "sentiment_df.groupby(['topic']).size()"
   ]
  },
  {
   "cell_type": "code",
   "execution_count": 7,
   "metadata": {},
   "outputs": [
    {
     "data": {
      "text/plain": [
       "topic_y                 sentiment_probs\n",
       "abrams                  NEG                17666\n",
       "                        NEU                11539\n",
       "                        POS                 3094\n",
       "abrams, election        NEG                  190\n",
       "                        NEU                  324\n",
       "                        POS                   62\n",
       "abrams, kemp            NEG                  922\n",
       "                        NEU                 1141\n",
       "                        POS                  165\n",
       "abrams, kemp, election  NEG                  124\n",
       "                        NEU                  541\n",
       "                        POS                  115\n",
       "election                NEG                 1060\n",
       "                        NEU                 2192\n",
       "                        POS                  474\n",
       "kemp                    NEG                 5358\n",
       "                        NEU                 4341\n",
       "                        POS                  819\n",
       "kemp, election          NEG                  453\n",
       "                        NEU                  688\n",
       "                        POS                   68\n",
       "dtype: int64"
      ]
     },
     "execution_count": 7,
     "metadata": {},
     "output_type": "execute_result"
    }
   ],
   "source": [
    "sentiment_df.groupby(['topic', 'sentiment_probs']).size()"
   ]
  },
  {
   "cell_type": "code",
   "execution_count": 8,
   "metadata": {},
   "outputs": [
    {
     "data": {
      "text/plain": [
       "topic_y                 hate_probs                           \n",
       "abrams                  ['hateful', 'aggressive']                  235\n",
       "                        ['hateful', 'targeted', 'aggressive']      272\n",
       "                        ['hateful', 'targeted']                   2435\n",
       "                        ['hateful']                               2246\n",
       "                        ['targeted']                                20\n",
       "                        []                                       27091\n",
       "abrams, election        ['hateful', 'aggressive']                    1\n",
       "                        ['hateful', 'targeted', 'aggressive']        2\n",
       "                        ['hateful', 'targeted']                     23\n",
       "                        ['hateful']                                 12\n",
       "                        ['targeted']                                 1\n",
       "                        []                                         537\n",
       "abrams, kemp            ['aggressive']                               1\n",
       "                        ['hateful', 'aggressive']                    5\n",
       "                        ['hateful', 'targeted', 'aggressive']        2\n",
       "                        ['hateful', 'targeted']                     68\n",
       "                        ['hateful']                                 68\n",
       "                        ['targeted']                                 3\n",
       "                        []                                        2081\n",
       "abrams, kemp, election  ['hateful', 'aggressive']                    1\n",
       "                        ['hateful', 'targeted', 'aggressive']        1\n",
       "                        ['hateful', 'targeted']                      7\n",
       "                        ['hateful']                                  7\n",
       "                        ['targeted']                                 1\n",
       "                        []                                         763\n",
       "election                ['hateful', 'aggressive']                   11\n",
       "                        ['hateful', 'targeted', 'aggressive']        9\n",
       "                        ['hateful', 'targeted']                     72\n",
       "                        ['hateful']                                 59\n",
       "                        []                                        3575\n",
       "kemp                    ['hateful', 'aggressive']                   48\n",
       "                        ['hateful', 'targeted', 'aggressive']       25\n",
       "                        ['hateful', 'targeted']                    155\n",
       "                        ['hateful']                                190\n",
       "                        ['targeted', 'aggressive']                   1\n",
       "                        ['targeted']                                 7\n",
       "                        []                                       10092\n",
       "kemp, election          ['hateful', 'aggressive']                    3\n",
       "                        ['hateful', 'targeted', 'aggressive']        4\n",
       "                        ['hateful', 'targeted']                     27\n",
       "                        ['hateful']                                 21\n",
       "                        []                                        1154\n",
       "dtype: int64"
      ]
     },
     "execution_count": 8,
     "metadata": {},
     "output_type": "execute_result"
    }
   ],
   "source": [
    "sentiment_df.groupby(['topic', 'hate_probs']).size()"
   ]
  },
  {
   "cell_type": "code",
   "execution_count": 16,
   "metadata": {},
   "outputs": [
    {
     "data": {
      "text/plain": [
       "topic_y                 _probs  \n",
       "abrams                  anger        2138\n",
       "                        disgust     11217\n",
       "                        fear          389\n",
       "                        joy          1908\n",
       "                        others      16311\n",
       "                        sadness        86\n",
       "                        surprise      250\n",
       "abrams, election        anger          22\n",
       "                        disgust       134\n",
       "                        joy            27\n",
       "                        others        388\n",
       "                        surprise        5\n",
       "abrams, kemp            anger         100\n",
       "                        disgust       649\n",
       "                        fear           24\n",
       "                        joy            36\n",
       "                        others       1402\n",
       "                        sadness         5\n",
       "                        surprise       12\n",
       "abrams, kemp, election  anger          10\n",
       "                        disgust        74\n",
       "                        joy            85\n",
       "                        others        610\n",
       "                        surprise        1\n",
       "election                anger         121\n",
       "                        disgust       579\n",
       "                        fear           40\n",
       "                        joy           253\n",
       "                        others       2689\n",
       "                        sadness        22\n",
       "                        surprise       22\n",
       "kemp                    anger         790\n",
       "                        disgust      4333\n",
       "                        fear           58\n",
       "                        joy           305\n",
       "                        others       4933\n",
       "                        sadness        32\n",
       "                        surprise       67\n",
       "kemp, election          anger          69\n",
       "                        disgust       248\n",
       "                        fear            5\n",
       "                        joy            35\n",
       "                        others        847\n",
       "                        sadness         1\n",
       "                        surprise        4\n",
       "dtype: int64"
      ]
     },
     "execution_count": 16,
     "metadata": {},
     "output_type": "execute_result"
    }
   ],
   "source": [
    "sentiment_df.groupby(['topic', '_probs']).size()"
   ]
  },
  {
   "cell_type": "code",
   "execution_count": 27,
   "metadata": {},
   "outputs": [
    {
     "data": {
      "text/plain": [
       "<AxesSubplot:xlabel='day'>"
      ]
     },
     "execution_count": 27,
     "metadata": {},
     "output_type": "execute_result"
    },
    {
     "data": {
      "image/png": "[encoded data removed]",
      "text/plain": [
       "<Figure size 640x480 with 1 Axes>"
      ]
     },
     "metadata": {},
     "output_type": "display_data"
    }
   ],
   "source": [
    "# Time Series Plot\n",
    "sentiment_candidate_df = sentiment_df[sentiment_df['topic'].isin(['kemp', 'abrams'])]\n",
    "sentiment_candidate_df = sentiment_candidate_df[sentiment_candidate_df['sentiment'] != 'NEU']\n",
    "sentiment_candidate_df = sentiment_candidate_df.groupby(['day', 'topic', 'sentiment'], as_index=False).size()\n",
    "pd.DataFrame(sentiment_candidate_df.pivot(index=\"day\", columns=[\"topic\", \"sentiment\"], values=\"size\")).plot()"
   ]
  },
  {
   "cell_type": "code",
   "execution_count": 26,
   "metadata": {},
   "outputs": [
    {
     "data": {
      "text/plain": [
       "<AxesSubplot:xlabel='day'>"
      ]
     },
     "execution_count": 26,
     "metadata": {},
     "output_type": "execute_result"
    },
    {
     "data": {
      "image/png": "[encoded data removed]",
      "text/plain": [
       "<Figure size 640x480 with 1 Axes>"
      ]
     },
     "metadata": {},
     "output_type": "display_data"
    }
   ],
   "source": [
    "# Time Series Plot\n",
    "emotion_candidate_df = sentiment_df[sentiment_df['topic'].isin(['kemp', 'abrams'])]\n",
    "emotion_candidate_df = emotion_candidate_df[emotion_candidate_df['emotion'] != 'others']\n",
    "emotion_candidate_df = emotion_candidate_df.groupby(['day', 'topic', 'emotion'], as_index=False).size()\n",
    "pd.DataFrame(emotion_candidate_df.pivot(index=\"day\", columns=[\"topic\", \"emotion\"], values=\"size\")).plot()"
   ]
  }
 ],
 "metadata": {
  "kernelspec": {
   "display_name": "Python 3.9.13 ('anly_nn')",
   "language": "python",
   "name": "python3"
  },
  "language_info": {
   "codemirror_mode": {
    "name": "ipython",
    "version": 3
   },
   "file_extension": ".py",
   "mimetype": "text/x-python",
   "name": "python",
   "nbconvert_exporter": "python",
   "pygments_lexer": "ipython3",
   "version": "3.9.13"
  },
  "orig_nbformat": 4,
  "vscode": {
   "interpreter": {
    "hash": "c810761776810c6b6690fdd35fa5cf3a0b569b85a1082c5024439e21e3b34f97"
   }
  }
 },
 "nbformat": 4,
 "nbformat_minor": 2
}
